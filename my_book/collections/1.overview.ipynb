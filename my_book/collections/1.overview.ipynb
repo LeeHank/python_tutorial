{
 "cells": [
  {
   "cell_type": "markdown",
   "metadata": {},
   "source": [
    "# Collections overview"
   ]
  },
  {
   "cell_type": "markdown",
   "metadata": {},
   "source": [
    "* 之前介紹過四種 built-in 的 containers： `dict`, `list`, `set`, `tuple`\n",
    "* 那 collections 是一個 python 的 module，可以視為上面四種 container 的 extension。常用的包括：\n",
    "  * tuple -> namedtuple\n",
    "  * dict -> defaultdict, Counter, OrderDict\n",
    "  * list -> deque"
   ]
  },
  {
   "cell_type": "markdown",
   "metadata": {},
   "source": []
  }
 ],
 "metadata": {
  "language_info": {
   "name": "python"
  },
  "orig_nbformat": 4
 },
 "nbformat": 4,
 "nbformat_minor": 2
}
