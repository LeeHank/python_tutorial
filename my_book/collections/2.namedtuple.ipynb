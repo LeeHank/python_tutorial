{
 "cells": [
  {
   "cell_type": "markdown",
   "metadata": {},
   "source": [
    "# tuple"
   ]
  },
  {
   "cell_type": "markdown",
   "metadata": {},
   "source": [
    "## review"
   ]
  },
  {
   "cell_type": "markdown",
   "metadata": {},
   "source": [
    "### iterable"
   ]
  },
  {
   "cell_type": "code",
   "execution_count": 1,
   "metadata": {},
   "outputs": [
    {
     "name": "stdout",
     "output_type": "stream",
     "text": [
      "python\n",
      "3\n",
      "7\n",
      "3\n"
     ]
    }
   ],
   "source": [
    "my_tuple = ('python', 3, 7, 3)\n",
    "for i in my_tuple:\n",
    "    print(i)"
   ]
  },
  {
   "cell_type": "markdown",
   "metadata": {},
   "source": [
    "### indexing and slicing"
   ]
  },
  {
   "cell_type": "code",
   "execution_count": 2,
   "metadata": {},
   "outputs": [
    {
     "name": "stdout",
     "output_type": "stream",
     "text": [
      "python\n",
      "('python', 3)\n"
     ]
    }
   ],
   "source": [
    "print(my_tuple[0])\n",
    "print(my_tuple[0:2])"
   ]
  },
  {
   "cell_type": "markdown",
   "metadata": {},
   "source": [
    "### sequence unpacking"
   ]
  },
  {
   "cell_type": "code",
   "execution_count": 6,
   "metadata": {},
   "outputs": [
    {
     "name": "stdout",
     "output_type": "stream",
     "text": [
      "python 7 3\n",
      "python\n",
      "python [3, 7, 3]\n"
     ]
    }
   ],
   "source": [
    "name, _, y, z = my_tuple # 我不 care 第二個 element\n",
    "print(name, y, z)\n",
    "\n",
    "name, *_ = my_tuple # 我只關心 name\n",
    "print(name)\n",
    "\n",
    "name, *version = my_tuple # 我關心 name 和 其他\n",
    "print(name, version)"
   ]
  },
  {
   "cell_type": "markdown",
   "metadata": {},
   "source": [
    "### immutable"
   ]
  },
  {
   "cell_type": "code",
   "execution_count": 8,
   "metadata": {},
   "outputs": [
    {
     "ename": "TypeError",
     "evalue": "'tuple' object does not support item assignment",
     "output_type": "error",
     "traceback": [
      "\u001b[0;31m---------------------------------------------------------------------------\u001b[0m",
      "\u001b[0;31mTypeError\u001b[0m                                 Traceback (most recent call last)",
      "\u001b[0;32m<ipython-input-8-d07f6e07ee3b>\u001b[0m in \u001b[0;36m<module>\u001b[0;34m\u001b[0m\n\u001b[0;32m----> 1\u001b[0;31m \u001b[0mmy_tuple\u001b[0m\u001b[0;34m[\u001b[0m\u001b[0;36m0\u001b[0m\u001b[0;34m]\u001b[0m \u001b[0;34m=\u001b[0m \u001b[0;34m\"new_name\"\u001b[0m\u001b[0;34m\u001b[0m\u001b[0;34m\u001b[0m\u001b[0m\n\u001b[0m",
      "\u001b[0;31mTypeError\u001b[0m: 'tuple' object does not support item assignment"
     ]
    }
   ],
   "source": [
    "my_tuple[0] = \"new_name\""
   ]
  },
  {
   "cell_type": "markdown",
   "metadata": {},
   "source": [
    "* immutable 的特性，好處是\n",
    "  * 可以當 dictionary 的 key\n",
    "  * 效能較好\n",
    "  * thread safe：我們如果使用 multi-thread時，在不同的 thread 裡面用 tuple 是安全的"
   ]
  },
  {
   "cell_type": "code",
   "execution_count": 9,
   "metadata": {},
   "outputs": [
    {
     "name": "stdout",
     "output_type": "stream",
     "text": [
      "{('python', 3, 7, 3): 1}\n"
     ]
    }
   ],
   "source": [
    "my_dict = {my_tuple: 1}\n",
    "print(my_dict)"
   ]
  },
  {
   "cell_type": "markdown",
   "metadata": {},
   "source": [
    "## named tupple"
   ]
  },
  {
   "cell_type": "markdown",
   "metadata": {},
   "source": [
    "* 想像一個情境，我想要紀錄一個人的姓名和年齡。\n",
    "* 那最簡單的做法，就是我用 tuple 的方式來處理，如下："
   ]
  },
  {
   "cell_type": "code",
   "execution_count": 10,
   "metadata": {},
   "outputs": [
    {
     "name": "stdout",
     "output_type": "stream",
     "text": [
      "Richard 33\n"
     ]
    }
   ],
   "source": [
    "s1 = (\"Richard\", 33)\n",
    "s2 = (\"Chris\", 24)\n",
    "\n",
    "print(s1[0], s1[1])"
   ]
  },
  {
   "cell_type": "markdown",
   "metadata": {},
   "source": [
    "* 那好處是，這樣做 code 很簡潔\n",
    "* 但壞處是， `s1[0]` 這種寫法，可讀性很糟。我不知道他是代表姓名還是年齡\n",
    "* 那，如果換成 class 的寫法，會變以下這樣："
   ]
  },
  {
   "cell_type": "code",
   "execution_count": 11,
   "metadata": {},
   "outputs": [
    {
     "name": "stdout",
     "output_type": "stream",
     "text": [
      "Jack\n",
      "20\n"
     ]
    }
   ],
   "source": [
    "class Student:\n",
    "    def __init__(self, name, age):\n",
    "        self.name = name\n",
    "        self.age = age\n",
    "\n",
    "s1 = Student(\"Jack\", 30)\n",
    "s2 = Student(\"Tim\", 20)\n",
    "\n",
    "print(s1.name)\n",
    "print(s2.age)"
   ]
  },
  {
   "cell_type": "markdown",
   "metadata": {},
   "source": [
    "* 他的優點是，可讀性很高， `s1.name` ，一看就知道是要找姓名\n",
    "* 但缺點是，code 比較囉唆\n",
    "* 那現在要介紹的 `namedtuple`，則像是兩個方法的折衷方案，寫法如下："
   ]
  },
  {
   "cell_type": "code",
   "execution_count": 13,
   "metadata": {},
   "outputs": [
    {
     "name": "stdout",
     "output_type": "stream",
     "text": [
      "Paul\n",
      "40\n"
     ]
    }
   ],
   "source": [
    "from collections import namedtuple\n",
    "\n",
    "Student = namedtuple(\n",
    "    typename = 'my_student',\n",
    "    field_names = ['name', 'age']\n",
    ")\n",
    "\n",
    "s3 = Student('Paul', 55)\n",
    "s4 = Student(\"Nico\", 40)\n",
    "\n",
    "print(s3.name)\n",
    "print(s4.age)"
   ]
  },
  {
   "cell_type": "code",
   "execution_count": null,
   "metadata": {},
   "outputs": [],
   "source": []
  }
 ],
 "metadata": {
  "interpreter": {
   "hash": "bde15ff3982d08ca04892f9f808f37b0dc457429cd239a8830c3cc4d0aed0431"
  },
  "kernelspec": {
   "display_name": "Python 3.8.0 64-bit ('3.8.0')",
   "language": "python",
   "name": "python3"
  },
  "language_info": {
   "codemirror_mode": {
    "name": "ipython",
    "version": 3
   },
   "file_extension": ".py",
   "mimetype": "text/x-python",
   "name": "python",
   "nbconvert_exporter": "python",
   "pygments_lexer": "ipython3",
   "version": "3.8.0"
  },
  "orig_nbformat": 4
 },
 "nbformat": 4,
 "nbformat_minor": 2
}
