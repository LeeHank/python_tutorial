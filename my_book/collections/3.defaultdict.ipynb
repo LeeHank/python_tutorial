{
 "cells": [
  {
   "cell_type": "markdown",
   "metadata": {},
   "source": [
    "# defaultdict"
   ]
  },
  {
   "cell_type": "markdown",
   "metadata": {},
   "source": [
    "* 先來看個例子，假設我有個單詞的list如下，然後我想去計算詞頻"
   ]
  },
  {
   "cell_type": "code",
   "execution_count": 1,
   "metadata": {},
   "outputs": [],
   "source": [
    "word_list = ['is', 'who', 'when', 'it', 'is', 'who', 'is']"
   ]
  },
  {
   "cell_type": "markdown",
   "metadata": {},
   "source": [
    "* 那，比較簡單的做法，就是寫個 dictionary，裡面的 key，就是詞頻裡的字，然後用 for 迴圈，把詞頻填進 value 裡面"
   ]
  },
  {
   "cell_type": "code",
   "execution_count": 6,
   "metadata": {},
   "outputs": [
    {
     "name": "stdout",
     "output_type": "stream",
     "text": [
      "{'is': 3, 'who': 2, 'when': 1, 'it': 1}\n"
     ]
    }
   ],
   "source": [
    "result = dict()\n",
    "\n",
    "for word in word_list:\n",
    "    if word not in result.keys():\n",
    "        result[word] = 1\n",
    "    else:\n",
    "        result[word] += 1\n",
    "\n",
    "print(result)"
   ]
  },
  {
   "cell_type": "markdown",
   "metadata": {},
   "source": [
    "* 那，上面的寫法，可以改的優雅一點，如下："
   ]
  },
  {
   "cell_type": "code",
   "execution_count": 7,
   "metadata": {},
   "outputs": [
    {
     "name": "stdout",
     "output_type": "stream",
     "text": [
      "{'is': 3, 'who': 2, 'when': 1, 'it': 1}\n"
     ]
    }
   ],
   "source": [
    "result = dict()\n",
    "\n",
    "for word in word_list:\n",
    "    result.setdefault(word, 0) # 看一下目前的 dictionary 中，有沒有 word 這個 key，沒的話，用預設為 0 填入\n",
    "    result[word] += 1\n",
    "\n",
    "print(result)"
   ]
  },
  {
   "cell_type": "markdown",
   "metadata": {},
   "source": [
    "* 那，最優雅的做法，就是用 `defaultdict`"
   ]
  },
  {
   "cell_type": "code",
   "execution_count": 13,
   "metadata": {},
   "outputs": [
    {
     "name": "stdout",
     "output_type": "stream",
     "text": [
      "defaultdict(<class 'int'>, {'hahahaha': 0})\n",
      "defaultdict(<class 'list'>, {'hahahahahahahahaha': []})\n",
      "defaultdict(<function my_func at 0x10cb753a0>, {'hahahahahahaha': 'ok I see'})\n"
     ]
    }
   ],
   "source": [
    "from collections import defaultdict\n",
    "\n",
    "result = defaultdict(\n",
    "    int # 這邊要放的參數，是任何 callable object。例如這邊我寫 int，那他的預設值就會是 call int() 所得到的結果 -> 0\n",
    ")\n",
    "\n",
    "# 做個實驗看看\n",
    "result[\"hahahaha\"]\n",
    "print(result)\n",
    "\n",
    "result = defaultdict(list)\n",
    "result[\"hahahahahahahahaha\"]\n",
    "print(result)\n",
    "\n",
    "# function 也是 object，所以也算 callable object\n",
    "def my_func():\n",
    "    return \"ok I see\"\n",
    "result = defaultdict(my_func)\n",
    "result[\"hahahahahahaha\"]\n",
    "print(result)"
   ]
  },
  {
   "cell_type": "markdown",
   "metadata": {},
   "source": [
    "* 所以，我可以這樣改寫剛剛的 code"
   ]
  },
  {
   "cell_type": "code",
   "execution_count": 15,
   "metadata": {},
   "outputs": [
    {
     "name": "stdout",
     "output_type": "stream",
     "text": [
      "defaultdict(<class 'int'>, {'is': 3, 'who': 2, 'when': 1, 'it': 1})\n"
     ]
    }
   ],
   "source": [
    "from collections import defaultdict\n",
    "\n",
    "result = defaultdict(int)\n",
    "for word in word_list:\n",
    "    result[word] += 1\n",
    "\n",
    "print(result)\n"
   ]
  },
  {
   "cell_type": "code",
   "execution_count": null,
   "metadata": {},
   "outputs": [],
   "source": []
  }
 ],
 "metadata": {
  "interpreter": {
   "hash": "bde15ff3982d08ca04892f9f808f37b0dc457429cd239a8830c3cc4d0aed0431"
  },
  "kernelspec": {
   "display_name": "Python 3.8.0 64-bit ('3.8.0')",
   "language": "python",
   "name": "python3"
  },
  "language_info": {
   "codemirror_mode": {
    "name": "ipython",
    "version": 3
   },
   "file_extension": ".py",
   "mimetype": "text/x-python",
   "name": "python",
   "nbconvert_exporter": "python",
   "pygments_lexer": "ipython3",
   "version": "3.8.0"
  },
  "orig_nbformat": 4
 },
 "nbformat": 4,
 "nbformat_minor": 2
}
