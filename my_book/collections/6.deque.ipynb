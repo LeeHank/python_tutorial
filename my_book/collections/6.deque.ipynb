{
 "cells": [
  {
   "cell_type": "markdown",
   "metadata": {},
   "source": [
    "# deque"
   ]
  },
  {
   "cell_type": "markdown",
   "metadata": {},
   "source": [
    "* 把他想成  \n",
    "  * 比較聰明的 list，多了許多額外的 method 可用\n",
    "  * 效率比較高的 list"
   ]
  },
  {
   "cell_type": "markdown",
   "metadata": {},
   "source": [
    "## 多了額外 method 的 list"
   ]
  },
  {
   "cell_type": "code",
   "execution_count": 1,
   "metadata": {},
   "outputs": [
    {
     "name": "stdout",
     "output_type": "stream",
     "text": [
      "deque([1, 2, 3])\n"
     ]
    }
   ],
   "source": [
    "from collections import deque\n",
    "\n",
    "# 建立\n",
    "d = deque([1,2,3])\n",
    "print(d)"
   ]
  },
  {
   "cell_type": "code",
   "execution_count": 2,
   "metadata": {},
   "outputs": [
    {
     "name": "stdout",
     "output_type": "stream",
     "text": [
      "deque([1, 2, 3, 4])\n",
      "deque([0, 1, 2, 3, 4])\n"
     ]
    }
   ],
   "source": [
    "# append\n",
    "d.append(4)\n",
    "print(d) # [1, 2, 3, 4]\n",
    "\n",
    "d.appendleft(0) # 新招\n",
    "print(d) # [0, 1, 2, 3, 4]"
   ]
  },
  {
   "cell_type": "code",
   "execution_count": 3,
   "metadata": {},
   "outputs": [
    {
     "name": "stdout",
     "output_type": "stream",
     "text": [
      "deque([0, 1, 2, 3])\n",
      "deque([1, 2, 3])\n"
     ]
    }
   ],
   "source": [
    "# pop\n",
    "d.pop()\n",
    "print(d) # [0, 1, 2, 3]\n",
    "\n",
    "d.popleft() # 新招\n",
    "print(d) # [1, 2, 3]"
   ]
  },
  {
   "cell_type": "code",
   "execution_count": 4,
   "metadata": {},
   "outputs": [
    {
     "name": "stdout",
     "output_type": "stream",
     "text": [
      "deque([1, 2, 3, 4, 5])\n",
      "deque([-2, -1, 0, 1, 2, 3, 4, 5])\n"
     ]
    }
   ],
   "source": [
    "# extend\n",
    "d.extend([4, 5])\n",
    "print(d)\n",
    "\n",
    "d.extendleft([0, -1, -2])\n",
    "print(d)"
   ]
  },
  {
   "cell_type": "code",
   "execution_count": 5,
   "metadata": {},
   "outputs": [
    {
     "name": "stdout",
     "output_type": "stream",
     "text": [
      "deque([5, 4, 3, 2, 1, 0, -1, -2])\n"
     ]
    }
   ],
   "source": [
    "# reverse\n",
    "d.reverse()\n",
    "print(d)"
   ]
  },
  {
   "cell_type": "code",
   "execution_count": 6,
   "metadata": {},
   "outputs": [],
   "source": [
    "# insert\n",
    "d.insert(0, 123) # 在 index = 0 的地方，插入 123"
   ]
  },
  {
   "cell_type": "code",
   "execution_count": 7,
   "metadata": {},
   "outputs": [
    {
     "name": "stdout",
     "output_type": "stream",
     "text": [
      "deque([123, 5, 4, 3, 2, 1, 0, -1, -2])\n"
     ]
    }
   ],
   "source": [
    "print(d)"
   ]
  },
  {
   "cell_type": "markdown",
   "metadata": {},
   "source": [
    "## 效能更好的 list"
   ]
  },
  {
   "cell_type": "code",
   "execution_count": 9,
   "metadata": {},
   "outputs": [
    {
     "name": "stdout",
     "output_type": "stream",
     "text": [
      "list: 0.0014829635620117188\n",
      "deque: 8.177757263183594e-05\n"
     ]
    }
   ],
   "source": [
    "import time\n",
    " \n",
    "l = list(range(1000000))\n",
    "t1 = time.time()\n",
    "l.insert(1110, -1)\n",
    "print('list:', time.time() - t1)\n",
    "\n",
    "d = deque(range(1000000))\n",
    "t2 = time.time()\n",
    "d.insert(1110, -1)\n",
    "print('deque:', time.time() - t2)"
   ]
  },
  {
   "cell_type": "code",
   "execution_count": null,
   "metadata": {},
   "outputs": [],
   "source": []
  }
 ],
 "metadata": {
  "interpreter": {
   "hash": "bde15ff3982d08ca04892f9f808f37b0dc457429cd239a8830c3cc4d0aed0431"
  },
  "kernelspec": {
   "display_name": "Python 3.8.0 64-bit ('3.8.0')",
   "language": "python",
   "name": "python3"
  },
  "language_info": {
   "codemirror_mode": {
    "name": "ipython",
    "version": 3
   },
   "file_extension": ".py",
   "mimetype": "text/x-python",
   "name": "python",
   "nbconvert_exporter": "python",
   "pygments_lexer": "ipython3",
   "version": "3.8.0"
  },
  "orig_nbformat": 4
 },
 "nbformat": 4,
 "nbformat_minor": 2
}
