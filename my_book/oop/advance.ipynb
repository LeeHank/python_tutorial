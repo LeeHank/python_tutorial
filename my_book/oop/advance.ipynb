{
 "cells": [
  {
   "cell_type": "markdown",
   "metadata": {},
   "source": [
    "# OOP (Advanced)"
   ]
  },
  {
   "cell_type": "markdown",
   "metadata": {},
   "source": [
    "## isinstance"
   ]
  },
  {
   "cell_type": "markdown",
   "metadata": {},
   "source": [
    "* 這邊的重點就是，如果有 A class, 然後 B class 是繼承自 A，那由 B 實例出來的 instance b，就不只是 B 的 instance，也是 A 的 instance  "
   ]
  },
  {
   "cell_type": "code",
   "execution_count": 3,
   "metadata": {},
   "outputs": [],
   "source": [
    "class A:\n",
    "    pass\n",
    "\n",
    "class B(A):\n",
    "    pass"
   ]
  },
  {
   "cell_type": "code",
   "execution_count": 4,
   "metadata": {},
   "outputs": [
    {
     "name": "stdout",
     "output_type": "stream",
     "text": [
      "True\n",
      "True\n"
     ]
    }
   ],
   "source": [
    "a = A()\n",
    "b = B()\n",
    "\n",
    "print(isinstance(b, B))\n",
    "print(isinstance(b, A))"
   ]
  },
  {
   "cell_type": "markdown",
   "metadata": {},
   "source": [
    "## magic method (a.k.a dunder)"
   ]
  },
  {
   "cell_type": "markdown",
   "metadata": {},
   "source": [
    "* 在 class 中，看到用 `雙底線` 定義的 method，就被稱為 magic method，或被稱為 dunder(double underscore 的縮寫)  \n",
    "* 例如 `__init__`, `__repr__`, ..."
   ]
  },
  {
   "cell_type": "markdown",
   "metadata": {},
   "source": [
    "### `__init__` "
   ]
  },
  {
   "cell_type": "markdown",
   "metadata": {},
   "source": [
    "* 這個之前做過很多了，寫一下就好："
   ]
  },
  {
   "cell_type": "code",
   "execution_count": 28,
   "metadata": {},
   "outputs": [],
   "source": [
    "class Account:\n",
    "    def __init__(self, name, amount=0):\n",
    "        self.name = name\n",
    "        self.amount = amount\n",
    "        self._＿transaction = [] # 用來記錄這個帳號的交易紀錄, 雙底線開頭，表示不讓 user 任意修改\n",
    "    \n",
    "    @property\n",
    "    def transaction(self):\n",
    "        return self.__transaction\n",
    "    \n",
    "    # 交易用的 method\n",
    "    def add_transaction(self, amount):\n",
    "        self.__transaction.append(amount)\n",
    "    \n",
    "    # 取得目前總資產\n",
    "    @property    \n",
    "    def balance(self):\n",
    "        return self.amount + sum(self.__transaction)\n",
    "    "
   ]
  },
  {
   "cell_type": "code",
   "execution_count": 29,
   "metadata": {},
   "outputs": [
    {
     "name": "stdout",
     "output_type": "stream",
     "text": [
      "[1000, 1000]\n",
      "24000\n"
     ]
    }
   ],
   "source": [
    "hank = Account(name = \"Hank\", amount = 22000)\n",
    "\n",
    "hank.add_transaction(1000)\n",
    "hank.add_transaction(1000)\n",
    "\n",
    "print(hank.transaction)\n",
    "print(hank.balance)"
   ]
  },
  {
   "cell_type": "markdown",
   "metadata": {},
   "source": [
    "### `__repr__` & `__str__`"
   ]
  },
  {
   "cell_type": "markdown",
   "metadata": {},
   "source": [
    "* `__repr__` 是用在，你直接 call object 時，他會吐給你的東西。用法上，主要是寫給 機器/工程師 看的訊息  \n",
    "* `__str__` 是用在，你用 print object 時，他會吐給你的東西。用法上，主要是寫給 user 看的訊息"
   ]
  },
  {
   "cell_type": "code",
   "execution_count": 30,
   "metadata": {},
   "outputs": [],
   "source": [
    "class Account:\n",
    "    def __init__(self, name, amount=0):\n",
    "        self.name = name\n",
    "        self.amount = amount\n",
    "        self._＿transaction = [] # 用來記錄這個帳號的交易紀錄, 雙底線開頭，表示不讓 user 任意修改\n",
    "    \n",
    "    @property\n",
    "    def transaction(self):\n",
    "        return self.__transaction\n",
    "    \n",
    "    # 交易用的 method\n",
    "    def add_transaction(self, amount):\n",
    "        self.__transaction.append(amount)\n",
    "    \n",
    "    # 取得目前總資產\n",
    "    @property    \n",
    "    def balance(self):\n",
    "        return self.amount + sum(self.__transaction)\n",
    "    \n",
    "    # 對 object 下 print 的時候，會回傳 __str__ 定義的內容, 表 human readable content\n",
    "    def __str__(self):\n",
    "        return f\"Here is the content of __str__\"\n",
    "    \n",
    "    # 直接 key 這個 object後，會回傳 __repr__ 定義的內容, \n",
    "    def __repr__(self):\n",
    "        return \"Here is the content of __repr__\""
   ]
  },
  {
   "cell_type": "code",
   "execution_count": 31,
   "metadata": {},
   "outputs": [
    {
     "data": {
      "text/plain": [
       "Here is the content of __repr__"
      ]
     },
     "execution_count": 31,
     "metadata": {},
     "output_type": "execute_result"
    }
   ],
   "source": [
    "hank = Account(name = \"Hank\", amount = 22000)\n",
    "\n",
    "# 直接 call，會給你 `__repr__` 底下的內容\n",
    "hank"
   ]
  },
  {
   "cell_type": "code",
   "execution_count": 32,
   "metadata": {},
   "outputs": [
    {
     "name": "stdout",
     "output_type": "stream",
     "text": [
      "Here is the content of __str__\n"
     ]
    }
   ],
   "source": [
    "# 用 print 來 call，會給你 `__str__` 底下的內容\n",
    "print(hank)"
   ]
  },
  {
   "cell_type": "markdown",
   "metadata": {},
   "source": [
    "###"
   ]
  },
  {
   "cell_type": "markdown",
   "metadata": {},
   "source": [
    "### 用 `__eq__` 和 `__lt__` 來比大小"
   ]
  },
  {
   "cell_type": "code",
   "execution_count": 33,
   "metadata": {},
   "outputs": [],
   "source": [
    "class Account:\n",
    "    def __init__(self, name, amount=0):\n",
    "        self.name = name\n",
    "        self.amount = amount\n",
    "        self._＿transaction = [] # 用來記錄這個帳號的交易紀錄, 雙底線開頭，表示不讓 user 任意修改\n",
    "    \n",
    "    @property\n",
    "    def transaction(self):\n",
    "        return self.__transaction\n",
    "    \n",
    "    # 交易用的 method\n",
    "    def add_transaction(self, amount):\n",
    "        self.__transaction.append(amount)\n",
    "    \n",
    "    # 取得目前總資產\n",
    "    @property    \n",
    "    def balance(self):\n",
    "        return self.amount + sum(self.__transaction)\n",
    "    \n",
    "    # 對 object 下 print 的時候，會回傳 __str__ 定義的內容, 表 human readable content\n",
    "    def __str__(self):\n",
    "        return f\"Here is the content of __str__\"\n",
    "    \n",
    "    # 直接 key 這個 object後，會回傳 __repr__ 定義的內容, \n",
    "    def __repr__(self):\n",
    "        return \"Here is the content of __repr__\"\n",
    "    \n",
    "    # 用於 instance 之間比大小\n",
    "    def __eq__(self, other):\n",
    "        return self.balance == other.balance\n",
    "    \n",
    "    def __lt__(self, other):\n",
    "        return self.balance < other.balance\n",
    "\n"
   ]
  },
  {
   "cell_type": "code",
   "execution_count": 37,
   "metadata": {},
   "outputs": [
    {
     "name": "stdout",
     "output_type": "stream",
     "text": [
      "False\n",
      "True\n"
     ]
    }
   ],
   "source": [
    "hank = Account(name = \"Hank\", amount = 22000)\n",
    "hank.add_transaction(1000)\n",
    "hank.add_transaction(1000)\n",
    "\n",
    "pin = Account(name = \"pinpin\", amount = 33000)\n",
    "pin.add_transaction(10000)\n",
    "\n",
    "print(hank == pin)\n",
    "print(hank < pin)"
   ]
  },
  {
   "cell_type": "markdown",
   "metadata": {},
   "source": [
    "## abc (ABCMeta & abstractclassmethod)"
   ]
  },
  {
   "cell_type": "markdown",
   "metadata": {},
   "source": [
    "* 我們有時候，會希望先定義一個 class 的模板 (或說，抽象的 class)  \n",
    "* 他基本上沒有定義任何 method，但，他是像模板一樣，告訴你，定義這種 class 時，有哪些 method 必須被定義。  '\n",
    "* 舉例來說，我想定義一個 class 的模板，裡面寫好， `read` 和 `write` 這兩種 method，是為來使用這個模板時，一定要有的 class"
   ]
  },
  {
   "cell_type": "code",
   "execution_count": 38,
   "metadata": {},
   "outputs": [],
   "source": [
    "from abc import ABCMeta, abstractclassmethod\n",
    "\n",
    "class Base(metaclass = ABCMeta):\n",
    "    \n",
    "    @abstractclassmethod\n",
    "    def read(self):\n",
    "        pass\n",
    "    \n",
    "    @abstractclassmethod\n",
    "    def write(self):\n",
    "        pass"
   ]
  },
  {
   "cell_type": "markdown",
   "metadata": {},
   "source": [
    "* 那之後，我如果去定義新的 class，有繼承到這個 Base 的 class 時，他就會被規範，要去定義這兩個 method"
   ]
  },
  {
   "cell_type": "code",
   "execution_count": 39,
   "metadata": {},
   "outputs": [
    {
     "ename": "TypeError",
     "evalue": "Can't instantiate abstract class FileStream with abstract methods read, write",
     "output_type": "error",
     "traceback": [
      "\u001b[0;31m---------------------------------------------------------------------------\u001b[0m",
      "\u001b[0;31mTypeError\u001b[0m                                 Traceback (most recent call last)",
      "\u001b[0;32m<ipython-input-39-82ddaadb0ffd>\u001b[0m in \u001b[0;36m<module>\u001b[0;34m\u001b[0m\n\u001b[1;32m      3\u001b[0m \u001b[0;34m\u001b[0m\u001b[0m\n\u001b[1;32m      4\u001b[0m \u001b[0;32mif\u001b[0m \u001b[0m__name__\u001b[0m \u001b[0;34m==\u001b[0m \u001b[0;34m\"__main__\"\u001b[0m\u001b[0;34m:\u001b[0m\u001b[0;34m\u001b[0m\u001b[0;34m\u001b[0m\u001b[0m\n\u001b[0;32m----> 5\u001b[0;31m     \u001b[0mf\u001b[0m \u001b[0;34m=\u001b[0m \u001b[0mFileStream\u001b[0m\u001b[0;34m(\u001b[0m\u001b[0;34m)\u001b[0m\u001b[0;34m\u001b[0m\u001b[0;34m\u001b[0m\u001b[0m\n\u001b[0m",
      "\u001b[0;31mTypeError\u001b[0m: Can't instantiate abstract class FileStream with abstract methods read, write"
     ]
    }
   ],
   "source": [
    "class FileStream(Base):\n",
    "    pass\n",
    "\n",
    "if __name__ == \"__main__\":\n",
    "    f = FileStream()"
   ]
  },
  {
   "cell_type": "markdown",
   "metadata": {},
   "source": [
    "* 就會立刻看到，他提醒我們，`read` 和 `write` 我沒定義到\n",
    "* 所以，我就會知道，我一定要定義這兩個 method"
   ]
  },
  {
   "cell_type": "code",
   "execution_count": 40,
   "metadata": {},
   "outputs": [],
   "source": [
    "class FileStream(Base):\n",
    "    def read(self):\n",
    "        return \"This is my read\"\n",
    "    \n",
    "    def write(self):\n",
    "        pass\n",
    "\n",
    "if __name__ == \"__main__\":\n",
    "    f = FileStream()"
   ]
  },
  {
   "cell_type": "markdown",
   "metadata": {},
   "source": [
    "* 就會發現，可以 work 了。\n",
    "* 那這種用法，可以用在哪裡呢？  \n",
    "* 比較快想到的例子，時 Mabo 寫的撈資料 class  \n",
    "* 在公司裡面，撈資料可以 depend on 用 chart\\_name 來撈，或是用 chart\\_no 來撈。\n",
    "* 那就可以\n",
    "  * 先寫一個 撈chart 的模板class，規範好，當我要定義撈各種chart的class時，一定要定義的 method 有哪些\n",
    "  * 再分別寫 用chart\\_name 來撈 chart 的 class，和用 chart\\_no 來撈 chart 的 class，並都繼承於剛剛的抽象模板 class。\n",
    "  * 那這兩個新的 class，就都被規範好，要定義哪些 method，而不會漏掉了。\n",
    "* 至於，為啥要這麼麻煩，寫抽象 class 並訂規範？ 可以想像，如果是大型合作案，那主要的 manager 就可以先定好規範，然後各個工程師分別去寫一堆撈chart的class，此時我們就可以確保那些必要的methodd都有被定義到。 "
   ]
  },
  {
   "cell_type": "markdown",
   "metadata": {},
   "source": []
  }
 ],
 "metadata": {
  "interpreter": {
   "hash": "bde15ff3982d08ca04892f9f808f37b0dc457429cd239a8830c3cc4d0aed0431"
  },
  "kernelspec": {
   "display_name": "Python 3.8.0 64-bit ('3.8.0')",
   "language": "python",
   "name": "python3"
  },
  "language_info": {
   "codemirror_mode": {
    "name": "ipython",
    "version": 3
   },
   "file_extension": ".py",
   "mimetype": "text/x-python",
   "name": "python",
   "nbconvert_exporter": "python",
   "pygments_lexer": "ipython3",
   "version": "3.8.0"
  },
  "orig_nbformat": 4
 },
 "nbformat": 4,
 "nbformat_minor": 2
}
