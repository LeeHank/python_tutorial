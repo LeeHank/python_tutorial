{
 "cells": [
  {
   "cell_type": "markdown",
   "metadata": {},
   "source": [
    "# Basic OOP"
   ]
  },
  {
   "cell_type": "markdown",
   "metadata": {},
   "source": [
    "## class & object 的基本概念"
   ]
  },
  {
   "cell_type": "markdown",
   "metadata": {},
   "source": [
    "* class: 水果 (抽象的類別)  \n",
    "* instance/class: 香蕉 (具體的實例)"
   ]
  },
  {
   "cell_type": "code",
   "execution_count": 2,
   "metadata": {},
   "outputs": [],
   "source": [
    "class People:\n",
    "    def __init__(self, name, age):\n",
    "        self.name = name\n",
    "        self.age = age\n",
    "    def sayhi(self):\n",
    "        print(f\"Hi! my name is {self.name}, and I'm {self.age} years old\")"
   ]
  },
  {
   "cell_type": "code",
   "execution_count": 3,
   "metadata": {},
   "outputs": [
    {
     "name": "stdout",
     "output_type": "stream",
     "text": [
      "Hi! my name is Jack, and I'm 20 years old\n"
     ]
    }
   ],
   "source": [
    "someone = People(name = \"Jack\", age = 20)\n",
    "someone.sayhi()"
   ]
  },
  {
   "cell_type": "markdown",
   "metadata": {},
   "source": [
    "## 單底線protect\\_attribute 和 雙底線private\\_attribute"
   ]
  },
  {
   "cell_type": "markdown",
   "metadata": {},
   "source": [
    "* 上面的 name 和 age，都可以被 user 隨意修改"
   ]
  },
  {
   "cell_type": "code",
   "execution_count": 4,
   "metadata": {},
   "outputs": [
    {
     "name": "stdout",
     "output_type": "stream",
     "text": [
      "Hi! my name is Hank, and I'm 20 years old\n"
     ]
    }
   ],
   "source": [
    "someone.name = \"Hank\"\n",
    "someone.sayhi()"
   ]
  },
  {
   "cell_type": "markdown",
   "metadata": {},
   "source": [
    "* 那，我可以用單底線，來定義屬性，這只有提醒 user 的功能 (不成文的規定，你看到單底線的屬性，就是叫你不要去改他)。但，他要改還是可以改  \n",
    "* 若用雙底線來定義屬性，就是真的不讓他改了。"
   ]
  },
  {
   "cell_type": "code",
   "execution_count": 5,
   "metadata": {},
   "outputs": [],
   "source": [
    "class People:\n",
    "    def __init__(self, name, age):\n",
    "        self.name = name\n",
    "        self.age = age\n",
    "        self._protect_var = 10 # protect variable，只有提醒功能\n",
    "        self.__private_var = 20\n",
    "    def sayhi(self):\n",
    "        print(f\"Hi! my name is {self.name}, and I'm {self.age} years old\")"
   ]
  },
  {
   "cell_type": "code",
   "execution_count": 6,
   "metadata": {},
   "outputs": [
    {
     "name": "stdout",
     "output_type": "stream",
     "text": [
      "10\n",
      "123\n"
     ]
    }
   ],
   "source": [
    "someone = People(name = \"Hank\", age = 28)\n",
    "\n",
    "print(someone._protect_var)\n",
    "someone._protect_var = 123\n",
    "print(someone._protect_var)"
   ]
  },
  {
   "cell_type": "code",
   "execution_count": 8,
   "metadata": {},
   "outputs": [
    {
     "ename": "AttributeError",
     "evalue": "'People' object has no attribute '__private_var'",
     "output_type": "error",
     "traceback": [
      "\u001b[0;31m---------------------------------------------------------------------------\u001b[0m",
      "\u001b[0;31mAttributeError\u001b[0m                            Traceback (most recent call last)",
      "\u001b[0;32m<ipython-input-8-2a1f00dcb7f6>\u001b[0m in \u001b[0;36m<module>\u001b[0;34m\u001b[0m\n\u001b[0;32m----> 1\u001b[0;31m \u001b[0mprint\u001b[0m\u001b[0;34m(\u001b[0m\u001b[0msomeone\u001b[0m\u001b[0;34m.\u001b[0m\u001b[0m__private_var\u001b[0m\u001b[0;34m)\u001b[0m\u001b[0;34m\u001b[0m\u001b[0;34m\u001b[0m\u001b[0m\n\u001b[0m\u001b[1;32m      2\u001b[0m \u001b[0msomeone\u001b[0m\u001b[0;34m.\u001b[0m\u001b[0m__private_var\u001b[0m \u001b[0;34m=\u001b[0m \u001b[0;36m12345\u001b[0m\u001b[0;34m\u001b[0m\u001b[0;34m\u001b[0m\u001b[0m\n\u001b[1;32m      3\u001b[0m \u001b[0mprint\u001b[0m\u001b[0;34m(\u001b[0m\u001b[0msomeone\u001b[0m\u001b[0;34m.\u001b[0m\u001b[0m_private_var\u001b[0m\u001b[0;34m)\u001b[0m\u001b[0;34m\u001b[0m\u001b[0;34m\u001b[0m\u001b[0m\n",
      "\u001b[0;31mAttributeError\u001b[0m: 'People' object has no attribute '__private_var'"
     ]
    }
   ],
   "source": [
    "print(someone.__private_var)\n",
    "someone.__private_var = 12345\n",
    "print(someone._private_var)"
   ]
  },
  {
   "cell_type": "markdown",
   "metadata": {},
   "source": [
    "## 屬性的推薦寫法"
   ]
  },
  {
   "cell_type": "code",
   "execution_count": 9,
   "metadata": {},
   "outputs": [],
   "source": [
    "class People:\n",
    "    def __init__(self, name, age):\n",
    "        self.__name = name # 設成 private attribute，所以 user 無法用 .name 來取得此屬性，自然無法直接修改\n",
    "        self.__age = age\n",
    "    \n",
    "    @property # 在 method 的上面加上 property 這個 decorator, 那 user 就可以像 call property 一樣的方法來 call 這個 method (i.e. 可用 .name，而不是 .name())\n",
    "    def name(self):\n",
    "        return self.__name\n",
    "    \n",
    "    @property\n",
    "    def age(self):\n",
    "        return self.__age\n",
    "    \n",
    "    @name.setter\n",
    "    def name(self, name):\n",
    "        # 做一些合法的檢查，通過，才讓他改\n",
    "        self.__name = name\n",
    "    \n",
    "    @age.setter\n",
    "    def age(self, age):\n",
    "        self.__age = age\n",
    "    \n",
    "    def sayhi(self):\n",
    "        print(f\"Hi! my name is {self.name}, and I'm {self.age} years old\")"
   ]
  },
  {
   "cell_type": "code",
   "execution_count": 11,
   "metadata": {},
   "outputs": [
    {
     "name": "stdout",
     "output_type": "stream",
     "text": [
      "Hank\n",
      "Zac\n"
     ]
    }
   ],
   "source": [
    "someone = People(name = \"Hank\", age = 28)\n",
    "print(someone.name) # 看起來像在 call 屬性，其實內部是在 call method。所以，你可以做手腳後，才回給他，例如改大寫才回他\n",
    "someone.name = \"Zac\" # 看起來就像對 property 賦值，但其實內部也是在 call method。所以，你可以幫他檢查，並決定是否真的讓他賦值進去\n",
    "print(someone.name)"
   ]
  },
  {
   "cell_type": "markdown",
   "metadata": {},
   "source": [
    "## 繼承 和 多形"
   ]
  },
  {
   "cell_type": "code",
   "execution_count": null,
   "metadata": {},
   "outputs": [],
   "source": [
    "# 父類\n",
    "class Animal:\n",
    "    def eat(self):\n",
    "        print(\"Animal is eating\")\n",
    "    def drink(self):\n",
    "        print(\"Animal is drinking\")\n",
    "\n",
    "# 子類，繼承父類所有 attribute 和 method，這種特性叫繼承  \n",
    "# 同時，子累還可額外 定義自己的新 attribute/method，或重新定義原有的 attribute/method，這叫多形\n",
    "class Bird(Animal):\n",
    "    # 啥都不寫實，已經有 eat 和 drink 兩種 method\n",
    "    def sing(self):\n",
    "        print(\"Bird is singing\") # 額外新增的 method\n",
    "    def eat(self):\n",
    "        print(\"Bird is eating\") # 多形，重新定義了原本的 eat，所以現在的 eat 有多種型態"
   ]
  },
  {
   "cell_type": "markdown",
   "metadata": {},
   "source": [
    "## class-level attribute vs instance-level attribute"
   ]
  },
  {
   "cell_type": "code",
   "execution_count": 16,
   "metadata": {},
   "outputs": [],
   "source": [
    "class Student:\n",
    "    count = 0 # class-level attribute\n",
    "    def __init__(self, name):\n",
    "        self.name = name # instance-level attribute"
   ]
  },
  {
   "cell_type": "markdown",
   "metadata": {},
   "source": [
    "* 實例化前，class-level attribute 可以 call，但 instance level 不可"
   ]
  },
  {
   "cell_type": "code",
   "execution_count": 17,
   "metadata": {},
   "outputs": [
    {
     "name": "stdout",
     "output_type": "stream",
     "text": [
      "0\n"
     ]
    },
    {
     "ename": "AttributeError",
     "evalue": "type object 'Student' has no attribute 'name'",
     "output_type": "error",
     "traceback": [
      "\u001b[0;31m---------------------------------------------------------------------------\u001b[0m",
      "\u001b[0;31mAttributeError\u001b[0m                            Traceback (most recent call last)",
      "\u001b[0;32m<ipython-input-17-499cca217fad>\u001b[0m in \u001b[0;36m<module>\u001b[0;34m\u001b[0m\n\u001b[1;32m      1\u001b[0m \u001b[0mprint\u001b[0m\u001b[0;34m(\u001b[0m\u001b[0mStudent\u001b[0m\u001b[0;34m.\u001b[0m\u001b[0mcount\u001b[0m\u001b[0;34m)\u001b[0m \u001b[0;31m# ok\u001b[0m\u001b[0;34m\u001b[0m\u001b[0;34m\u001b[0m\u001b[0m\n\u001b[0;32m----> 2\u001b[0;31m \u001b[0mprint\u001b[0m\u001b[0;34m(\u001b[0m\u001b[0mStudent\u001b[0m\u001b[0;34m.\u001b[0m\u001b[0mname\u001b[0m\u001b[0;34m)\u001b[0m \u001b[0;31m# error\u001b[0m\u001b[0;34m\u001b[0m\u001b[0;34m\u001b[0m\u001b[0m\n\u001b[0m",
      "\u001b[0;31mAttributeError\u001b[0m: type object 'Student' has no attribute 'name'"
     ]
    }
   ],
   "source": [
    "print(Student.count) # ok\n",
    "print(Student.name) # error"
   ]
  },
  {
   "cell_type": "code",
   "execution_count": 19,
   "metadata": {},
   "outputs": [
    {
     "name": "stdout",
     "output_type": "stream",
     "text": [
      "A\n",
      "0\n"
     ]
    }
   ],
   "source": [
    "s1 = Student(name = \"A\")\n",
    "print(s1.name)\n",
    "print(s1.count)"
   ]
  },
  {
   "cell_type": "markdown",
   "metadata": {},
   "source": [
    "* 改 class-level attribute，不會影想到已實例化的 object，只會影想到未來要實例化的 object"
   ]
  },
  {
   "cell_type": "code",
   "execution_count": 20,
   "metadata": {},
   "outputs": [
    {
     "name": "stdout",
     "output_type": "stream",
     "text": [
      "123\n",
      "123\n"
     ]
    }
   ],
   "source": [
    "Student.count = 123\n",
    "print(s1.count)\n",
    "\n",
    "s2 = Student(name = \"B\")\n",
    "print(s2.count)"
   ]
  },
  {
   "cell_type": "markdown",
   "metadata": {},
   "source": [
    "* 所以，我們可用這種技巧，去統計某個 class 一共被實例化多少次"
   ]
  },
  {
   "cell_type": "code",
   "execution_count": 21,
   "metadata": {},
   "outputs": [],
   "source": [
    "class Student:\n",
    "    count = 0 # class-level attribute\n",
    "    def __init__(self, name):\n",
    "        count += 1 # 只要一實例化\n",
    "        self.name = name # instance-level attribute"
   ]
  },
  {
   "cell_type": "markdown",
   "metadata": {},
   "source": [
    "## instance-level method, class-level method, & static method"
   ]
  },
  {
   "cell_type": "code",
   "execution_count": 33,
   "metadata": {},
   "outputs": [],
   "source": [
    "class People:\n",
    "    def __init__(self, name, age):\n",
    "        self.name = name\n",
    "        self.age = age\n",
    "    def sayhi(self):\n",
    "        # 還可用 self.xxx，來調用其他 instance-level attribute 或 instance-level method 來用\n",
    "        print(\"This is a instance-level method\")\n",
    "    \n",
    "    @classmethod\n",
    "    def test1(cls):\n",
    "        # 還可用 cls.xxx，來調用其他 class-level attribute 或 class-level method 來用。\n",
    "        print(\"This is a class-level method\")\n",
    "        \n",
    "    @staticmethod\n",
    "    def test2(whatever): # 他就像一般來說的 function，所以寫自己的參數就好，不須額外寫 self 或  cls\n",
    "        # 沒有 self 和 cls 後，無法再用 self.xxx 或 cls.xxx ，來調用這兩個 level 的 attribute/method\n",
    "        print(f\"This si static method. I type {whatever}\")\n"
   ]
  },
  {
   "cell_type": "code",
   "execution_count": 34,
   "metadata": {},
   "outputs": [
    {
     "name": "stdout",
     "output_type": "stream",
     "text": [
      "This is a class-level method\n",
      "This si static method. I type okok\n",
      "This is a instance-level method\n",
      "This is a class-level method\n",
      "This si static method. I type no no no\n"
     ]
    }
   ],
   "source": [
    "# class-level method 可以直接用\n",
    "People.test1()\n",
    "\n",
    "# static method 也可直接用\n",
    "People.test2(\"okok\")\n",
    "\n",
    "# instance-level method 必須先實例化才能用\n",
    "p1 = People(name = \"Jack\", age = 20)\n",
    "p1.sayhi()\n",
    "\n",
    "# 實例化後，也可在實例下調用 class-level method\n",
    "p1.test1()\n",
    "\n",
    "# 實例化後，也可在實例下調用 static method\n",
    "p1.test2(\"no no no\")"
   ]
  },
  {
   "cell_type": "code",
   "execution_count": null,
   "metadata": {},
   "outputs": [],
   "source": []
  }
 ],
 "metadata": {
  "interpreter": {
   "hash": "bde15ff3982d08ca04892f9f808f37b0dc457429cd239a8830c3cc4d0aed0431"
  },
  "kernelspec": {
   "display_name": "Python 3.8.0 64-bit ('3.8.0')",
   "language": "python",
   "name": "python3"
  },
  "language_info": {
   "codemirror_mode": {
    "name": "ipython",
    "version": 3
   },
   "file_extension": ".py",
   "mimetype": "text/x-python",
   "name": "python",
   "nbconvert_exporter": "python",
   "pygments_lexer": "ipython3",
   "version": "3.8.0"
  },
  "orig_nbformat": 4
 },
 "nbformat": 4,
 "nbformat_minor": 2
}
